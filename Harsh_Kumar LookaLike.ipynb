{
 "cells": [
  {
   "cell_type": "code",
   "execution_count": null,
   "id": "b83a2543-80a3-4b54-8adc-9d0a09555d75",
   "metadata": {},
   "outputs": [],
   "source": [
    "!pip install scikit-learn\n"
   ]
  },
  {
   "cell_type": "code",
   "execution_count": 4,
   "id": "0a405df1-3207-4603-9fdc-f4f565c66faf",
   "metadata": {},
   "outputs": [
    {
     "name": "stdout",
     "output_type": "stream",
     "text": [
      "   CustomerID SimilarCustomerID  SimilarityScore\n",
      "0       C0001             C0164         0.997598\n",
      "1       C0001             C0103         0.995394\n",
      "2       C0001             C0069         0.986073\n",
      "3       C0002             C0029         0.999754\n",
      "4       C0002             C0031         0.998986\n",
      "5       C0002             C0077         0.994313\n",
      "6       C0003             C0176         0.902950\n",
      "7       C0003             C0027         0.875121\n",
      "8       C0003             C0010         0.832965\n",
      "9       C0004             C0075         0.997789\n",
      "10      C0004             C0165         0.994442\n",
      "11      C0004             C0113         0.993976\n",
      "12      C0005             C0123         0.999781\n",
      "13      C0005             C0131         0.999628\n",
      "14      C0005             C0058         0.999561\n",
      "15      C0006             C0079         0.999882\n",
      "16      C0006             C0117         0.989525\n",
      "17      C0006             C0196         0.945252\n",
      "18      C0007             C0125         0.998032\n",
      "19      C0007             C0140         0.997960\n"
     ]
    }
   ],
   "source": [
    "import pandas as pd\n",
    "from sklearn.metrics.pairwise import cosine_similarity\n",
    "from sklearn.preprocessing import StandardScaler\n",
    "\n",
    "# Step 1: Load the Data\n",
    "customers = pd.read_csv('Customers.csv')\n",
    "products = pd.read_csv('Products.csv')\n",
    "transactions = pd.read_csv('Transactions.csv')\n",
    "\n",
    "# Step 2: Merge Data\n",
    "# Merge transactions with customers to get customer profiles\n",
    "merged_data = transactions.merge(customers, on='CustomerID')\n",
    "\n",
    "# Create a summary of transactions per customer\n",
    "customer_summary = merged_data.groupby('CustomerID').agg({\n",
    "    'TotalValue': 'sum',\n",
    "    'Quantity': 'sum',\n",
    "    'ProductID': 'count'\n",
    "}).reset_index()\n",
    "\n",
    "# Step 3: Feature Engineering\n",
    "# Normalize the features\n",
    "scaler = StandardScaler()\n",
    "features = scaler.fit_transform(customer_summary[['TotalValue', 'Quantity', 'ProductID']])\n",
    "\n",
    "# Step 4: Calculate Similarity\n",
    "similarity_matrix = cosine_similarity(features)\n",
    "\n",
    "# Step 5: Build Lookalike Model\n",
    "lookalike_results = {}\n",
    "for index, row in customer_summary.iterrows():\n",
    "    customer_id = row['CustomerID']\n",
    "    # Get similarity scores for the current customer\n",
    "    scores = similarity_matrix[index]\n",
    "    # Get indices of the top 3 similar customers (excluding the customer itself)\n",
    "    similar_indices = scores.argsort()[-4:-1][::-1]  # Get top 3 excluding self\n",
    "    similar_customers = customer_summary.iloc[similar_indices]\n",
    "    # Store results\n",
    "    lookalike_results[customer_id] = list(zip(similar_customers['CustomerID'], scores[similar_indices]))\n",
    "\n",
    "# Step 6: Create DataFrame for Output\n",
    "lookalike_list = []\n",
    "\n",
    "for customer_id, similar_customers in lookalike_results.items():\n",
    "    for similar_customer_id, score in similar_customers:\n",
    "        lookalike_list.append({\n",
    "            'CustomerID': customer_id,\n",
    "            'SimilarCustomerID': similar_customer_id,\n",
    "            'SimilarityScore': score\n",
    "        })\n",
    "\n",
    "lookalike_df = pd.DataFrame(lookalike_list)\n",
    "\n",
    "# Step 7: Save to CSV\n",
    "lookalike_df.to_csv('Lookalike.csv', index=False)\n",
    "\n",
    "# Display the first 20 customers' lookalikes\n",
    "print(lookalike_df.head(20))"
   ]
  },
  {
   "cell_type": "code",
   "execution_count": null,
   "id": "83123c0c-f600-4c8b-9b5b-eb8997cff84c",
   "metadata": {},
   "outputs": [],
   "source": []
  }
 ],
 "metadata": {
  "kernelspec": {
   "display_name": "Python 3 (ipykernel)",
   "language": "python",
   "name": "python3"
  },
  "language_info": {
   "codemirror_mode": {
    "name": "ipython",
    "version": 3
   },
   "file_extension": ".py",
   "mimetype": "text/x-python",
   "name": "python",
   "nbconvert_exporter": "python",
   "pygments_lexer": "ipython3",
   "version": "3.10.0"
  }
 },
 "nbformat": 4,
 "nbformat_minor": 5
}
